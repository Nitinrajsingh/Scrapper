{
 "cells": [
  {
   "cell_type": "code",
   "execution_count": 286,
   "metadata": {},
   "outputs": [],
   "source": [
    "from urllib.request import urlretrieve\n",
    "import urllib.request\n",
    "from pathlib import Path\n",
    "import requests\n",
    "import os\n",
    "from bs4 import BeautifulSoup\n",
    "import re\n",
    "import json\n",
    "from selenium import webdriver\n",
    "from selenium.webdriver.chrome.options import Options\n",
    "from PyPDF2 import PdfFileMerger, PdfFileReader"
   ]
  },
  {
   "cell_type": "code",
   "execution_count": 287,
   "metadata": {},
   "outputs": [],
   "source": [
    "options=Options()\n",
    "options.add_argument('start-maximized')\n",
    "options.add_argument('disable-infobars')\n",
    "options.add_argument('--disable-extensions')\n",
    "options.add_argument('user-data-dir=C:\\\\Users\\\\Nikhil Raj Singh\\\\Desktop\\\\scrapping')\n",
    "browser = webdriver.Chrome(options=options)"
   ]
  },
  {
   "cell_type": "code",
   "execution_count": 288,
   "metadata": {
    "scrolled": false
   },
   "outputs": [],
   "source": [
    "def isValid(link):\n",
    "    if (link.find('combined_invoice_label_file') == -1):\n",
    "        return False\n",
    "    return True\n",
    "\n",
    "\n",
    "def scrape(url, links):\n",
    "    browser.get(url)\n",
    "    for a in browser.find_elements_by_xpath('//a[contains(@class, \"PackagingLabels_FileContainer__KRoG4\")]'):\n",
    "        href = a.get_attribute('href')\n",
    "        if (isValid(href)):\n",
    "            links.append(href)"
   ]
  },
  {
   "cell_type": "code",
   "execution_count": 289,
   "metadata": {},
   "outputs": [],
   "source": [
    "def get_name(url):\n",
    "    words = url.split('/')\n",
    "    if len(words) >= 6:\n",
    "        return words[6]+'.pdf'\n",
    "    else:\n",
    "        return \"default.pdf\"\n",
    "\n",
    "def save_pdf(links, combine=False, path = r'C:\\Users\\Nikhil Raj Singh\\Desktop\\Download'):\n",
    "    \n",
    "    if not os.path.exists(path):\n",
    "        os.makedirs(path)\n",
    "        \n",
    "    pdfs = []\n",
    "    combined_file = os.path.join(path, 'combined.pdf')\n",
    "    \n",
    "    \n",
    "    for url in links:\n",
    "        r = requests.get(url)\n",
    "        pdfname = get_name(url)\n",
    "        filepath = os.path.join(path, pdfname)\n",
    "        # print(filepath)\n",
    "        pdfs.append(filepath)\n",
    "        with open(filepath, 'wb') as filename:\n",
    "            filename.write(r.content)\n",
    "        \n",
    "        \n",
    "    if combine == True:\n",
    "        pdf_merger = PdfFileMerger()\n",
    "        file_handles = []\n",
    "\n",
    "        for path in pdfs:\n",
    "            print(path)\n",
    "            with open(path, 'rb') as fileobj:\n",
    "                pdf = PdfFileReader(fileobj)\n",
    "                pdf_merger.append(pdf)\n",
    "                print(pdf.getNumPages())\n",
    "\n",
    "        with open(combined_file, 'wb') as fileobj:\n",
    "            pdf_merger.write(combined_file,strict=False)\n",
    "            \n",
    "    return pdf_files"
   ]
  },
  {
   "cell_type": "code",
   "execution_count": null,
   "metadata": {},
   "outputs": [],
   "source": [
    "# # for link in links:\n",
    "# #     print(link)\n",
    "# #     words = link.split('/')\n",
    "# #     print(words[6])\n",
    "                           \n",
    "# links = [\"https://supplychain-production.s3.amazonaws.com/uploads/shipment/combined_invoice_label_file/149127/1589939578_combined_invoice_label_149127.pdf\",\"https://supplychain-production.s3.amazonaws.com/uploads/shipment/combined_invoice_label_file/148983/1589938331_combined_invoice_label_148983.pdf\"]\n",
    "\n",
    "# pdf_files = save_pdf(links, combine=True)\n"
   ]
  },
  {
   "cell_type": "code",
   "execution_count": 237,
   "metadata": {},
   "outputs": [],
   "source": [
    "import pandas as pd"
   ]
  },
  {
   "cell_type": "code",
   "execution_count": null,
   "metadata": {},
   "outputs": [
    {
     "name": "stdout",
     "output_type": "stream",
     "text": [
      "Link\n",
      "https://goops.bizongo.in/app/shipments/148990\n",
      "https://goops.bizongo.in/app/shipments/148991\n",
      "https://goops.bizongo.in/app/shipments/149223\n",
      "https://goops.bizongo.in/app/shipments/149081\n",
      "https://goops.bizongo.in/app/shipments/149102\n",
      "https://goops.bizongo.in/app/shipments/149127\n",
      "https://goops.bizongo.in/app/shipments/149033\n",
      "https://goops.bizongo.in/app/shipments/149126\n",
      "https://goops.bizongo.in/app/shipments/149110\n",
      "https://goops.bizongo.in/app/shipments/149122\n",
      "https://goops.bizongo.in/app/shipments/149129\n",
      "https://goops.bizongo.in/app/shipments/149065\n",
      "https://goops.bizongo.in/app/shipments/149115\n",
      "https://goops.bizongo.in/app/shipments/149034\n",
      "https://goops.bizongo.in/app/shipments/149125\n"
     ]
    }
   ],
   "source": [
    "links = []\n",
    "excel = r'C:\\Users\\Nikhil Raj Singh\\Desktop\\Required.csv'\n",
    "import csv\n",
    "\n",
    "with open(excel) as csvDataFile:\n",
    "    csvReader = csv.reader(csvDataFile)\n",
    "    for row in csvReader:\n",
    "        scrape_url = row[4]\n",
    "        print(scrape_url)\n",
    "        if scrape_url == 'Link':\n",
    "            continue\n",
    "        scrape(scrape_url, links)\n",
    "        save_pdf(links)\n",
    "        \n",
    "\n"
   ]
  },
  {
   "cell_type": "code",
   "execution_count": 279,
   "metadata": {},
   "outputs": [],
   "source": [
    "for link in links:\n",
    "    print(link)"
   ]
  }
 ],
 "metadata": {
  "kernelspec": {
   "display_name": "Python 3",
   "language": "python",
   "name": "python3"
  },
  "language_info": {
   "codemirror_mode": {
    "name": "ipython",
    "version": 3
   },
   "file_extension": ".py",
   "mimetype": "text/x-python",
   "name": "python",
   "nbconvert_exporter": "python",
   "pygments_lexer": "ipython3",
   "version": "3.6.5"
  }
 },
 "nbformat": 4,
 "nbformat_minor": 2
}
